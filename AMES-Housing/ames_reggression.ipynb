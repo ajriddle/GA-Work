{
 "cells": [
  {
   "cell_type": "code",
   "execution_count": 54,
   "metadata": {
    "collapsed": true
   },
   "outputs": [],
   "source": [
    "import pandas as pd\n",
    "import numpy as np\n",
    "import matplotlib.pyplot as plt\n",
    "import seaborn as sns\n",
    "from sklearn.preprocessing import *\n",
    "from sklearn.linear_model import *\n",
    "from sklearn.model_selection import cross_val_score, GridSearchCV, train_test_split\n",
    "from sklearn.metrics import mean_squared_error\n",
    "from sklearn.feature_selection import RFE, SelectKBest, f_classif, f_regression\n",
    "from sklearn.metrics import mean_squared_error\n",
    "from sklearn.ensemble import AdaBoostRegressor, GradientBoostingRegressor, RandomForestRegressor\n",
    "from sklearn.tree import DecisionTreeRegressor, DecisionTreeClassifier\n",
    "%matplotlib inline\n",
    "\n",
    "sns.set(style=\"white\")"
   ]
  },
  {
   "cell_type": "code",
   "execution_count": 27,
   "metadata": {},
   "outputs": [
    {
     "data": {
      "text/html": [
       "<div>\n",
       "<style>\n",
       "    .dataframe thead tr:only-child th {\n",
       "        text-align: right;\n",
       "    }\n",
       "\n",
       "    .dataframe thead th {\n",
       "        text-align: left;\n",
       "    }\n",
       "\n",
       "    .dataframe tbody tr th {\n",
       "        vertical-align: top;\n",
       "    }\n",
       "</style>\n",
       "<table border=\"1\" class=\"dataframe\">\n",
       "  <thead>\n",
       "    <tr style=\"text-align: right;\">\n",
       "      <th></th>\n",
       "      <th>PID</th>\n",
       "      <th>MS SubClass</th>\n",
       "      <th>MS Zoning</th>\n",
       "      <th>Lot Frontage</th>\n",
       "      <th>Lot Area</th>\n",
       "      <th>Street</th>\n",
       "      <th>Alley</th>\n",
       "      <th>Lot Shape</th>\n",
       "      <th>Land Contour</th>\n",
       "      <th>Utilities</th>\n",
       "      <th>...</th>\n",
       "      <th>Pool Area</th>\n",
       "      <th>Pool QC</th>\n",
       "      <th>Fence</th>\n",
       "      <th>Misc Feature</th>\n",
       "      <th>Misc Val</th>\n",
       "      <th>Mo Sold</th>\n",
       "      <th>Yr Sold</th>\n",
       "      <th>Sale Type</th>\n",
       "      <th>Sale Condition</th>\n",
       "      <th>SalePrice</th>\n",
       "    </tr>\n",
       "    <tr>\n",
       "      <th>Id</th>\n",
       "      <th></th>\n",
       "      <th></th>\n",
       "      <th></th>\n",
       "      <th></th>\n",
       "      <th></th>\n",
       "      <th></th>\n",
       "      <th></th>\n",
       "      <th></th>\n",
       "      <th></th>\n",
       "      <th></th>\n",
       "      <th></th>\n",
       "      <th></th>\n",
       "      <th></th>\n",
       "      <th></th>\n",
       "      <th></th>\n",
       "      <th></th>\n",
       "      <th></th>\n",
       "      <th></th>\n",
       "      <th></th>\n",
       "      <th></th>\n",
       "      <th></th>\n",
       "    </tr>\n",
       "  </thead>\n",
       "  <tbody>\n",
       "    <tr>\n",
       "      <th>109</th>\n",
       "      <td>533352170</td>\n",
       "      <td>60</td>\n",
       "      <td>RL</td>\n",
       "      <td>NaN</td>\n",
       "      <td>13517</td>\n",
       "      <td>Pave</td>\n",
       "      <td>NaN</td>\n",
       "      <td>IR1</td>\n",
       "      <td>Lvl</td>\n",
       "      <td>AllPub</td>\n",
       "      <td>...</td>\n",
       "      <td>0</td>\n",
       "      <td>NaN</td>\n",
       "      <td>NaN</td>\n",
       "      <td>NaN</td>\n",
       "      <td>0</td>\n",
       "      <td>3</td>\n",
       "      <td>2010</td>\n",
       "      <td>WD</td>\n",
       "      <td>Normal</td>\n",
       "      <td>130500</td>\n",
       "    </tr>\n",
       "    <tr>\n",
       "      <th>544</th>\n",
       "      <td>531379050</td>\n",
       "      <td>60</td>\n",
       "      <td>RL</td>\n",
       "      <td>43.0</td>\n",
       "      <td>11492</td>\n",
       "      <td>Pave</td>\n",
       "      <td>NaN</td>\n",
       "      <td>IR1</td>\n",
       "      <td>Lvl</td>\n",
       "      <td>AllPub</td>\n",
       "      <td>...</td>\n",
       "      <td>0</td>\n",
       "      <td>NaN</td>\n",
       "      <td>NaN</td>\n",
       "      <td>NaN</td>\n",
       "      <td>0</td>\n",
       "      <td>4</td>\n",
       "      <td>2009</td>\n",
       "      <td>WD</td>\n",
       "      <td>Normal</td>\n",
       "      <td>220000</td>\n",
       "    </tr>\n",
       "    <tr>\n",
       "      <th>153</th>\n",
       "      <td>535304180</td>\n",
       "      <td>20</td>\n",
       "      <td>RL</td>\n",
       "      <td>68.0</td>\n",
       "      <td>7922</td>\n",
       "      <td>Pave</td>\n",
       "      <td>NaN</td>\n",
       "      <td>Reg</td>\n",
       "      <td>Lvl</td>\n",
       "      <td>AllPub</td>\n",
       "      <td>...</td>\n",
       "      <td>0</td>\n",
       "      <td>NaN</td>\n",
       "      <td>NaN</td>\n",
       "      <td>NaN</td>\n",
       "      <td>0</td>\n",
       "      <td>1</td>\n",
       "      <td>2010</td>\n",
       "      <td>WD</td>\n",
       "      <td>Abnorml</td>\n",
       "      <td>109000</td>\n",
       "    </tr>\n",
       "    <tr>\n",
       "      <th>318</th>\n",
       "      <td>916386060</td>\n",
       "      <td>60</td>\n",
       "      <td>RL</td>\n",
       "      <td>73.0</td>\n",
       "      <td>9802</td>\n",
       "      <td>Pave</td>\n",
       "      <td>NaN</td>\n",
       "      <td>Reg</td>\n",
       "      <td>Lvl</td>\n",
       "      <td>AllPub</td>\n",
       "      <td>...</td>\n",
       "      <td>0</td>\n",
       "      <td>NaN</td>\n",
       "      <td>NaN</td>\n",
       "      <td>NaN</td>\n",
       "      <td>0</td>\n",
       "      <td>4</td>\n",
       "      <td>2010</td>\n",
       "      <td>WD</td>\n",
       "      <td>Normal</td>\n",
       "      <td>174000</td>\n",
       "    </tr>\n",
       "    <tr>\n",
       "      <th>255</th>\n",
       "      <td>906425045</td>\n",
       "      <td>50</td>\n",
       "      <td>RL</td>\n",
       "      <td>82.0</td>\n",
       "      <td>14235</td>\n",
       "      <td>Pave</td>\n",
       "      <td>NaN</td>\n",
       "      <td>IR1</td>\n",
       "      <td>Lvl</td>\n",
       "      <td>AllPub</td>\n",
       "      <td>...</td>\n",
       "      <td>0</td>\n",
       "      <td>NaN</td>\n",
       "      <td>NaN</td>\n",
       "      <td>NaN</td>\n",
       "      <td>0</td>\n",
       "      <td>3</td>\n",
       "      <td>2010</td>\n",
       "      <td>WD</td>\n",
       "      <td>Normal</td>\n",
       "      <td>138500</td>\n",
       "    </tr>\n",
       "  </tbody>\n",
       "</table>\n",
       "<p>5 rows × 81 columns</p>\n",
       "</div>"
      ],
      "text/plain": [
       "           PID  MS SubClass MS Zoning  Lot Frontage  Lot Area Street Alley  \\\n",
       "Id                                                                           \n",
       "109  533352170           60        RL           NaN     13517   Pave   NaN   \n",
       "544  531379050           60        RL          43.0     11492   Pave   NaN   \n",
       "153  535304180           20        RL          68.0      7922   Pave   NaN   \n",
       "318  916386060           60        RL          73.0      9802   Pave   NaN   \n",
       "255  906425045           50        RL          82.0     14235   Pave   NaN   \n",
       "\n",
       "    Lot Shape Land Contour Utilities    ...     Pool Area Pool QC Fence  \\\n",
       "Id                                      ...                               \n",
       "109       IR1          Lvl    AllPub    ...             0     NaN   NaN   \n",
       "544       IR1          Lvl    AllPub    ...             0     NaN   NaN   \n",
       "153       Reg          Lvl    AllPub    ...             0     NaN   NaN   \n",
       "318       Reg          Lvl    AllPub    ...             0     NaN   NaN   \n",
       "255       IR1          Lvl    AllPub    ...             0     NaN   NaN   \n",
       "\n",
       "    Misc Feature Misc Val Mo Sold Yr Sold  Sale Type  Sale Condition  \\\n",
       "Id                                                                     \n",
       "109          NaN        0       3    2010        WD           Normal   \n",
       "544          NaN        0       4    2009        WD           Normal   \n",
       "153          NaN        0       1    2010        WD          Abnorml   \n",
       "318          NaN        0       4    2010        WD           Normal   \n",
       "255          NaN        0       3    2010        WD           Normal   \n",
       "\n",
       "     SalePrice  \n",
       "Id              \n",
       "109     130500  \n",
       "544     220000  \n",
       "153     109000  \n",
       "318     174000  \n",
       "255     138500  \n",
       "\n",
       "[5 rows x 81 columns]"
      ]
     },
     "execution_count": 27,
     "metadata": {},
     "output_type": "execute_result"
    }
   ],
   "source": [
    "train = pd.read_csv('train.csv',index_col=0)\n",
    "test = pd.read_csv('test.csv',index_col=0)\n",
    "train.head()"
   ]
  },
  {
   "cell_type": "code",
   "execution_count": 28,
   "metadata": {},
   "outputs": [
    {
     "name": "stdout",
     "output_type": "stream",
     "text": [
      "(2051, 81)\n"
     ]
    }
   ],
   "source": [
    "print(train.shape)"
   ]
  },
  {
   "cell_type": "code",
   "execution_count": 29,
   "metadata": {},
   "outputs": [
    {
     "name": "stdout",
     "output_type": "stream",
     "text": [
      "(2051, 79)\n",
      "(2930, 79)\n"
     ]
    }
   ],
   "source": [
    "#Split data into feature matrix and target vector\n",
    "X = train.drop(['SalePrice','Sale Condition'],axis=1)\n",
    "y = train['SalePrice']\n",
    "print(X.shape)\n",
    "X = pd.concat([X,test],axis=0)\n",
    "print(X.shape)"
   ]
  },
  {
   "cell_type": "markdown",
   "metadata": {},
   "source": [
    "# Clean Data"
   ]
  },
  {
   "cell_type": "code",
   "execution_count": 30,
   "metadata": {},
   "outputs": [
    {
     "data": {
      "text/plain": [
       "Lot Frontage       490\n",
       "Alley             2732\n",
       "Mas Vnr Type        23\n",
       "Mas Vnr Area        23\n",
       "Bsmt Qual           80\n",
       "Bsmt Cond           80\n",
       "Bsmt Exposure       83\n",
       "BsmtFin Type 1      80\n",
       "BsmtFin SF 1         1\n",
       "BsmtFin Type 2      81\n",
       "BsmtFin SF 2         1\n",
       "Bsmt Unf SF          1\n",
       "Total Bsmt SF        1\n",
       "Electrical           1\n",
       "Bsmt Full Bath       2\n",
       "Bsmt Half Bath       2\n",
       "Fireplace Qu      1422\n",
       "Garage Type        157\n",
       "Garage Yr Blt      159\n",
       "Garage Finish      159\n",
       "Garage Cars          1\n",
       "Garage Area          1\n",
       "Garage Qual        159\n",
       "Garage Cond        159\n",
       "Pool QC           2917\n",
       "Fence             2358\n",
       "Misc Feature      2824\n",
       "dtype: int64"
      ]
     },
     "execution_count": 30,
     "metadata": {},
     "output_type": "execute_result"
    }
   ],
   "source": [
    "#Print number of NAs in each column that has NAs\n",
    "X.isnull().sum()[X.isnull().sum()>0]"
   ]
  },
  {
   "cell_type": "code",
   "execution_count": 31,
   "metadata": {},
   "outputs": [
    {
     "name": "stdout",
     "output_type": "stream",
     "text": [
      "(2930, 79)\n"
     ]
    }
   ],
   "source": [
    "#Convert ordered categorical columns using label encoding, being sure to interpret NA valuess correctly\n",
    "#For example, an NA value in Bsmt Qual is because the house doesn't have a basement, not because the data is \n",
    "#actually missing.\n",
    "\n",
    "#create dict for conversions\n",
    "label_encoder_dict = {\n",
    "    'Lot Shape' : ['IR3','IR2','IR1','Reg'],\n",
    "    'Exter Qual' : ['Po','Fa','TA','Gd','Ex'],\n",
    "    'Exter Cond' : ['Po','Fa','TA','Gd','Ex'],\n",
    "    'Bsmt Qual' : [np.nan,'Po','Fa','TA','Gd','Ex'],\n",
    "    'Bsmt Cond' : [np.nan,'Po','Fa','TA','Gd','Ex'],\n",
    "    'Bsmt Exposure' : [np.nan,'No','Mn','Av','Gd'],\n",
    "    'BsmtFin Type 1' : [np.nan,'Unf','LwQ','Rec','BLQ','ALQ','GLQ'],\n",
    "    'BsmtFin Type 2' : [np.nan,'Unf','LwQ','Rec','BLQ','ALQ','GLQ'],\n",
    "    'Heating QC' : ['Po','Fa','TA','Gd','Ex'],\n",
    "    'Kitchen Qual' : ['Po','Fa','TA','Gd','Ex'],\n",
    "    'Functional' : ['Sal','Sev','Maj2','Maj1','Mod','Min2','Min1','Typ'],\n",
    "    'Fireplace Qu' : [np.nan,'Po','Fa','TA','Gd','Ex'],\n",
    "    'Garage Finish' : [np.nan,'Unf','RFn','Fin'],\n",
    "    'Garage Qual' : [np.nan,'Po','Fa','TA','Gd','Ex'],\n",
    "    'Garage Cond' : [np.nan,'Po','Fa','TA','Gd','Ex'],\n",
    "    'Paved Drive' : ['N','P','Y'],\n",
    "    'Pool QC' : [np.nan,'Po','Fa','TA','Gd','Ex'],\n",
    "    'Fence' : [np.nan,'MnWw','GdWo','MnPrv','GdPrv']\n",
    "}\n",
    "\n",
    "#apply conversion to appropriate columns\n",
    "for key in label_encoder_dict.keys():\n",
    "    X[key] = X[key].map(lambda x: label_encoder_dict[key].index(x))\n",
    "print(X.shape)"
   ]
  },
  {
   "cell_type": "code",
   "execution_count": 32,
   "metadata": {},
   "outputs": [
    {
     "data": {
      "text/plain": [
       "Lot Frontage       490\n",
       "Alley             2732\n",
       "Mas Vnr Type        23\n",
       "Mas Vnr Area        23\n",
       "BsmtFin SF 1         1\n",
       "BsmtFin SF 2         1\n",
       "Bsmt Unf SF          1\n",
       "Total Bsmt SF        1\n",
       "Electrical           1\n",
       "Bsmt Full Bath       2\n",
       "Bsmt Half Bath       2\n",
       "Garage Type        157\n",
       "Garage Yr Blt      159\n",
       "Garage Cars          1\n",
       "Garage Area          1\n",
       "Misc Feature      2824\n",
       "dtype: int64"
      ]
     },
     "execution_count": 32,
     "metadata": {},
     "output_type": "execute_result"
    }
   ],
   "source": [
    "X.isnull().sum()[X.isnull().sum()>0]"
   ]
  },
  {
   "cell_type": "code",
   "execution_count": 33,
   "metadata": {},
   "outputs": [
    {
     "name": "stdout",
     "output_type": "stream",
     "text": [
      "(2930, 231)\n"
     ]
    }
   ],
   "source": [
    "#do 1-hot-encdoing for categorical columns\n",
    "X = pd.get_dummies(X)\n",
    "print(X.shape)\n",
    "#have to add MS SubClass manually as it's a categorical feature stored as integers\n",
    "X = pd.get_dummies(X,columns=['MS SubClass'])\n",
    "#Convert Garage Yr Blt column to garage age and then drop Garage Yr Blt column as it's unnecessary now and drop\n",
    "#Lot Frontage becuase it's correlate with Lot Area and has many missing values\n",
    "X['Garage Age'] = 2017 - X['Garage Yr Blt']\n",
    "X.drop(['Garage Yr Blt','Lot Frontage','PID'],axis=1,inplace=True)"
   ]
  },
  {
   "cell_type": "code",
   "execution_count": 34,
   "metadata": {
    "collapsed": true
   },
   "outputs": [],
   "source": [
    "#re-split into original train/test\n",
    "X_test = X.iloc[2051:,:].copy()\n",
    "X_train = X.iloc[:2051,:].copy()"
   ]
  },
  {
   "cell_type": "code",
   "execution_count": 35,
   "metadata": {},
   "outputs": [
    {
     "name": "stdout",
     "output_type": "stream",
     "text": [
      "216.58601310284575 4376.122223162936\n",
      "7944.399486936629 8106.023392510164\n",
      "2343.583153103391 11072.693077446907\n",
      "13556.450732759753 8718.155386478174\n",
      "14433.420585681568 19401.1389459996\n",
      "4065.140234693623 9544.213244202023\n",
      "5217.454692556639 10360.854086801817\n",
      "8227.97322335362 483.5512916148873\n",
      "287.6350172336679 4197.859066123623\n",
      "1894.097547820129 5981.848055550436\n",
      "1967.5371457889269 6445.755835364966\n",
      "8613.851764148712 10551.05312729346\n",
      "2908.2762938406086 12427.774987302502\n",
      "9918.819538506068 6970.062768112723\n",
      "1264.7130107611883 714.2472135855933\n",
      "889.0825242718565 3853.152989024704\n",
      "5629.711050595943 2824.9220187215105\n",
      "8258.840824058716 11384.548311836726\n",
      "5355.683160996676 9425.677343013842\n",
      "8449.149022548489 9399.467419784502\n",
      "569.4819138579769 3139.8496498686436\n",
      "1938.5316336464311 1717.7056070147228\n",
      "8548.189020443591 2206.9283904159092\n",
      "3072.5577788302035 8240.82772626805\n",
      "9070.600889309862 5337.570206754463\n",
      "3476.195787618053 2347.577969631573\n",
      "5996.243249927618 14611.544990036695\n",
      "6229.03778251374 12576.17955105548\n",
      "323.1971242139698 3635.949380811944\n",
      "8357.890935880248 6626.070464288947\n",
      "3344.9937379956245 7871.12666776785\n",
      "3055.6833162312396 860.9184565575706\n",
      "8252.316607467044 11066.019348980364\n",
      "6459.12299576393 1189.5236739093816\n",
      "3876.828355302947 3321.942780636018\n",
      "2098.4798300313123 5142.510356462721\n",
      "4237.991501565499 2442.1940220874967\n",
      "6341.49822401136 161.41669246242964\n",
      "4554.515499776375 2823.0512380252185\n",
      "840.1640513589664 2492.5328719187673\n",
      "2286.1013129160274 2024.6117800302454\n",
      "6990.034154234745 10201.908218012482\n",
      "576.8537006340921 1063.4080725550739\n",
      "6606.546546688769 6882.75949963888\n",
      "4393.81147157104 9108.414387635043\n",
      "3999.0454416291614 10452.578076536782\n",
      "1824.700513063377 437.8202356916736\n",
      "3306.7820112084737 8071.543924572936\n",
      "4802.322406398831 9220.05985674981\n",
      "3773.7248875207442 6725.6155623511\n",
      "3382.7147341279197 1726.1514135387843\n",
      "7999.77708053778 8736.226477598058\n",
      "4579.328368458431 6207.777924807611\n",
      "2324.8202988923294 4065.8598956276546\n",
      "3776.4288104822626 4087.1195036862337\n",
      "893.5831004814827 6651.529026134827\n",
      "2641.722043307789 9891.086577430382\n",
      "7924.627171310567 889.7253739784937\n",
      "3837.3268950456404 1614.4886751600134\n",
      "4113.572355092474 9661.653411363339\n",
      "4011.4135922330315 4229.495635181185\n",
      "1371.9824795432214 3444.477697891183\n",
      "7756.038700765639 2802.1661590398\n",
      "9665.259757413121 6810.247118233179\n",
      "5881.095414002688 7468.728192856608\n",
      "5991.958528692077 5952.590897049711\n",
      "5849.456810587522 4819.314955324706\n",
      "14077.896990028152 14927.489407875299\n",
      "5921.6764885415905 9185.233161251686\n",
      "5138.193085484236 3300.713417359293\n",
      "2628.1339726892475 8032.909686483908\n",
      "14598.695682374295 12793.296939933774\n",
      "2262.740068934654 3056.6396711599227\n",
      "899.5892651353788 5335.552122203924\n",
      "7341.856176493806 1978.7700153283513\n",
      "5311.130694345775 8356.772134868253\n",
      "6689.9795511353295 4960.872245038219\n",
      "780.8848791012133 1036.502953540883\n",
      "5592.940155760763 746.7168126789184\n",
      "13519.614742021222 8079.367512747136\n",
      "3279.5734917252266 8175.738906011975\n",
      "2064.741697582038 5918.679767528389\n",
      "4582.1071618386195 1377.7806341703545\n",
      "4745.158612887084 8007.55975169703\n",
      "9330.965498460806 10134.981964089136\n",
      "1177.060041571298 3721.3920226863993\n",
      "10864.647128160606 9578.333983996592\n",
      "5059.0009524561465 7614.318080956335\n",
      "2047.554245270585 2724.2407170384395\n",
      "4399.817975636077 249.85310413801926\n",
      "9819.504664930137 9681.317959725013\n",
      "2627.0546978188213 1513.0078088269947\n",
      "6729.820982976817 10246.294788364045\n",
      "7293.424056094955 2686.651509012212\n",
      "20024.879266977136 16556.14227785454\n",
      "3554.168340042612 3973.72788589471\n",
      "1244.3201120846206 8894.74932063566\n",
      "2906.716402241669 177.41700193494034\n",
      "6220.322637935111 6953.36210986675\n",
      "3460.745967848052 5159.1963755334\n",
      "555.4405477938417 5216.369774022562\n",
      "4010.426055726566 4906.806591262808\n",
      "13735.91761517615 7293.347753295864\n",
      "2290.396487489139 2628.2436740513513\n",
      "5874.182658457663 2858.6673617985653\n",
      "3824.0083037335135 8317.850095574773\n",
      "2925.2151735206717 13393.438883214505\n",
      "13017.590375457134 20371.22853801783\n",
      "7899.992382982076 9547.172384778707\n",
      "8071.586294629931 3724.566609621208\n",
      "6390.869313547504 18111.535472592746\n",
      "3307.9263819822518 2993.5221637001086\n",
      "2455.11541821243 2488.5436866585223\n",
      "6764.158112979203 387.8575231176801\n",
      "5056.319293814304 2179.208135443987\n",
      "2113.7842871049943 4688.463852273795\n",
      "5875.710171810468 4227.4110195397225\n",
      "819.2045333754504 8524.787534323434\n",
      "758.7762727918453 1644.6477422644675\n",
      "5810.3381534980435 506.29140263171575\n",
      "5125.004007156589 7542.728066093652\n",
      "3502.702778435545 5838.405699184965\n",
      "3888.1064382876793 4357.512804030484\n",
      "1689.5425816296774 5855.603523636397\n",
      "1125.7351251085347 3389.372785586107\n",
      "7767.17715683952 5008.837365036394\n",
      "847.2768121661793 3426.3286700578174\n",
      "4409.666019417491 557.2560979820119\n",
      "4378.183571447356 849.0826379243226\n",
      "5031.442008051148 246.13797603952116\n",
      "7690.661964901199 5358.6248443177465\n",
      "11324.612831846753 11118.628881419674\n",
      "4318.434914621001 3813.5514404772694\n",
      "4485.495871813095 6936.84101631552\n",
      "498.51453416474396 4635.84805499803\n",
      "4283.315649748722 1209.5903289581474\n",
      "8613.603530928522 1811.0651754200953\n",
      "4057.720219959476 1289.1145539883\n",
      "954.7668534743716 2240.6952801470034\n",
      "2503.283455679193 2666.375255787745\n",
      "3466.1156997395155 1175.8260746688902\n",
      "7836.806235693424 9172.133685402383\n",
      "5117.568142710545 6955.336141166772\n",
      "3630.82889467731 261.87591864104616\n",
      "58.8014234220027 2010.983210243765\n"
     ]
    }
   ],
   "source": [
    "#Create new train-test-split from train data\n",
    "diff = 10000\n",
    "thresh = 100\n",
    "while diff > thresh:\n",
    "    X_train_train, X_train_test, y_train,y_test = train_test_split(X_train,y,test_size=.1)\n",
    "    test_mean = y_test.mean()\n",
    "    train_mean = y_train.mean()\n",
    "    diff = abs(test_mean - train_mean)\n",
    "    print(diff,abs(y_train.std()-y_test.std()))"
   ]
  },
  {
   "cell_type": "code",
   "execution_count": 36,
   "metadata": {},
   "outputs": [
    {
     "name": "stderr",
     "output_type": "stream",
     "text": [
      "C:\\Users\\starm\\Anaconda3\\lib\\site-packages\\ipykernel_launcher.py:3: SettingWithCopyWarning: \n",
      "A value is trying to be set on a copy of a slice from a DataFrame.\n",
      "Try using .loc[row_indexer,col_indexer] = value instead\n",
      "\n",
      "See the caveats in the documentation: http://pandas.pydata.org/pandas-docs/stable/indexing.html#indexing-view-versus-copy\n",
      "  This is separate from the ipykernel package so we can avoid doing imports until\n",
      "C:\\Users\\starm\\Anaconda3\\lib\\site-packages\\ipykernel_launcher.py:4: SettingWithCopyWarning: \n",
      "A value is trying to be set on a copy of a slice from a DataFrame.\n",
      "Try using .loc[row_indexer,col_indexer] = value instead\n",
      "\n",
      "See the caveats in the documentation: http://pandas.pydata.org/pandas-docs/stable/indexing.html#indexing-view-versus-copy\n",
      "  after removing the cwd from sys.path.\n"
     ]
    }
   ],
   "source": [
    "#impute impossible values to be the median of the train set\n",
    "median_value = X_train_train['Garage Age'].median()\n",
    "X_train_train['Garage Age'] = X_train_train['Garage Age'].map(lambda x: median_value if x < 0 else x)\n",
    "X_train_test['Garage Age'] = X_train_test['Garage Age'].map(lambda x: median_value if x < 0 else x)\n",
    "X_test['Garage Age'] = X_test['Garage Age'].map(lambda x: median_value if x < 0 else x)"
   ]
  },
  {
   "cell_type": "code",
   "execution_count": 37,
   "metadata": {},
   "outputs": [
    {
     "name": "stderr",
     "output_type": "stream",
     "text": [
      "C:\\Users\\starm\\Anaconda3\\lib\\site-packages\\ipykernel_launcher.py:2: SettingWithCopyWarning: \n",
      "A value is trying to be set on a copy of a slice from a DataFrame.\n",
      "Try using .loc[row_indexer,col_indexer] = value instead\n",
      "\n",
      "See the caveats in the documentation: http://pandas.pydata.org/pandas-docs/stable/indexing.html#indexing-view-versus-copy\n",
      "  \n",
      "C:\\Users\\starm\\Anaconda3\\lib\\site-packages\\ipykernel_launcher.py:3: SettingWithCopyWarning: \n",
      "A value is trying to be set on a copy of a slice from a DataFrame.\n",
      "Try using .loc[row_indexer,col_indexer] = value instead\n",
      "\n",
      "See the caveats in the documentation: http://pandas.pydata.org/pandas-docs/stable/indexing.html#indexing-view-versus-copy\n",
      "  This is separate from the ipykernel package so we can avoid doing imports until\n",
      "C:\\Users\\starm\\Anaconda3\\lib\\site-packages\\pandas\\core\\frame.py:2852: SettingWithCopyWarning: \n",
      "A value is trying to be set on a copy of a slice from a DataFrame\n",
      "\n",
      "See the caveats in the documentation: http://pandas.pydata.org/pandas-docs/stable/indexing.html#indexing-view-versus-copy\n",
      "  downcast=downcast, **kwargs)\n"
     ]
    }
   ],
   "source": [
    "#impute garage age with median\n",
    "X_train_train['Garage Age'] = X_train_train['Garage Age'].map(lambda x: median_value if np.isnan(x) else x)\n",
    "X_train_test['Garage Age'] = X_train_test['Garage Age'].map(lambda x: median_value if np.isnan(x) else x)\n",
    "X_test['Garage Age'] = X_test['Garage Age'].map(lambda x: median_value if np.isnan(x) else x)\n",
    "#impute other columns with 0 as they represent a garage of 0 sq. ft., basement of 0 sq. ft., etc.\n",
    "X_train_train.fillna(0,inplace=True)\n",
    "X_train_test.fillna(0,inplace=True)\n",
    "X_test.fillna(0,inplace=True)"
   ]
  },
  {
   "cell_type": "markdown",
   "metadata": {},
   "source": [
    "# Scale Training and Test Sets"
   ]
  },
  {
   "cell_type": "code",
   "execution_count": 38,
   "metadata": {
    "collapsed": true
   },
   "outputs": [],
   "source": [
    "#scale feature matrix\n",
    "sc = StandardScaler()\n",
    "X_train_train_sc = sc.fit_transform(X_train_train)\n",
    "X_train_test_sc = sc.transform(X_train_test)\n",
    "X_test_sc = sc.transform(X_test)"
   ]
  },
  {
   "cell_type": "markdown",
   "metadata": {},
   "source": [
    "# Elastic Net"
   ]
  },
  {
   "cell_type": "code",
   "execution_count": 39,
   "metadata": {},
   "outputs": [],
   "source": [
    "# features = {\n",
    "#     'n_features':[],\n",
    "#     'rms_mean':[],\n",
    "#     'alpha':[],\n",
    "#     'l1_ratio':[],\n",
    "#     'rms_std':[],\n",
    "#     'test_score':[]\n",
    "# }\n",
    "\n",
    "# for n_features in np.arange(5,60,5):\n",
    "#     print('Performing grid search using {} features'.format(n_features))\n",
    "#     #Select top N features\n",
    "#     skb = SelectKBest(f_regression,n_features)\n",
    "#     skb.fit(X_train_train_sc,y_train)\n",
    "\n",
    "#     #Do grid search to find best model hyperparameters\n",
    "#     params = {\n",
    "#         'alpha' : np.linspace(1,20,5),\n",
    "#         'l1_ratio' : [.1,.5,.9,.95,.97,.99,.995,.9975]\n",
    "#     }\n",
    "\n",
    "#     en_model = GridSearchCV(ElasticNet(),param_grid=params,cv=5)\n",
    "#     en_model.fit(X_train_train_sc[:,skb.get_support()],y_train)\n",
    "#     rms = np.sqrt(np.abs(cross_val_score(en_model.best_estimator_,X_train_train_sc[:,skb.get_support()],y_train,\n",
    "#         cv=10,scoring='neg_mean_squared_error')))\n",
    "#     features['n_features'].append(n_features)\n",
    "#     features['alpha'].append(en_model.best_params_['alpha'])\n",
    "#     features['l1_ratio'].append(en_model.best_params_['l1_ratio'])\n",
    "#     features['rms_mean'].append(rms.mean())\n",
    "#     features['rms_std'].append(rms.std())\n",
    "#     y_pred = en_model.predict(X_train_test_sc[:,skb.get_support()])\n",
    "#     features['test_score'].append(np.sqrt(mean_squared_error(y_test,y_pred)))\n",
    "# features = pd.DataFrame(features)\n",
    "# features['test-train_score'] = features.test_score - features.rms_mean\n",
    "    \n",
    "# #Create arrays to construct prediction file\n",
    "# ids = test.index.values.reshape(-1,1)\n",
    "# preds = en_model.predict(X_test_sc[:,rfe.support_]).reshape(-1,1)\n",
    "\n",
    "# #Create a prediction DF and convert ID back to int\n",
    "# pred_df = pd.DataFrame(np.hstack(([ids,preds])),columns=['Id','SalePrice'])\n",
    "# pred_df.Id = pred_df.Id.astype(int)\n",
    "\n",
    "# #Write to csv\n",
    "# pred_df.to_csv('predictions.csv',index=False)"
   ]
  },
  {
   "cell_type": "markdown",
   "metadata": {},
   "source": [
    "# Adaptive Boost Regressor"
   ]
  },
  {
   "cell_type": "code",
   "execution_count": 40,
   "metadata": {
    "collapsed": true,
    "scrolled": true
   },
   "outputs": [],
   "source": [
    "# features = {\n",
    "#     'n_features':[],\n",
    "#     'rms_mean':[],\n",
    "#     'rms_std':[],\n",
    "#     'max_depth':[],\n",
    "#     'n_trees':[]\n",
    "# }\n",
    "\n",
    "# #Feature selection and grid search for AdaBoost Regressor\n",
    "# for n_features in [50]:#np.arange(40,120,10):\n",
    "#     #Select top N features\n",
    "#     skb = SelectKBest(f_regression,n_features)\n",
    "#     skb.fit(X_train_sc,y)\n",
    "# #     rfe = RFE(AdaBoostRegressor(),n_features,step=10)\n",
    "# #     rfe.fit(X_train_sc,y)\n",
    "\n",
    "#     #Do grid search to find best model hyperparameters\n",
    "#     params = {\n",
    "#         'n_estimators' : np.arange(60,120,10),\n",
    "# #         'learning_rate' : [.7,.8,.9,1],\n",
    "#         'base_estimator__max_depth' : [10,20,50],\n",
    "#         'base_estimator__max_features' : ['sqrt']\n",
    "#     }\n",
    "\n",
    "#     abr_model = GridSearchCV(AdaBoostRegressor(DecisionTreeRegressor()),param_grid=params,cv=5)\n",
    "#     abr_model.fit(X_train_sc[:,skb.get_support()],y)\n",
    "#     features['n_features'].append(n_features)\n",
    "#     features['max_depth'].append(abr_model.best_params_['base_estimator__max_depth'])\n",
    "#     features['n_trees'].append(abr_model.best_params_['n_estimators'])\n",
    "#     rms = np.sqrt(np.abs(cross_val_score(abr_model.best_estimator_,X_train_sc[:,skb.get_support()],y,cv=5,\n",
    "#         scoring='neg_mean_squared_error')))\n",
    "#     features['rms_mean'].append(rms.mean())\n",
    "#     features['rms_std'].append(rms.std())\n",
    "# features = pd.DataFrame(features)"
   ]
  },
  {
   "cell_type": "markdown",
   "metadata": {},
   "source": [
    "# Gradient Boost Regressor"
   ]
  },
  {
   "cell_type": "code",
   "execution_count": 53,
   "metadata": {},
   "outputs": [
    {
     "name": "stdout",
     "output_type": "stream",
     "text": [
      "Performing grid search using 5 features\n"
     ]
    },
    {
     "name": "stderr",
     "output_type": "stream",
     "text": [
      "C:\\Users\\starm\\Anaconda3\\lib\\site-packages\\sklearn\\feature_selection\\univariate_selection.py:279: RuntimeWarning: invalid value encountered in true_divide\n",
      "  corr /= row_norms(X.T)\n",
      "C:\\Users\\starm\\Anaconda3\\lib\\site-packages\\scipy\\stats\\_distn_infrastructure.py:879: RuntimeWarning: invalid value encountered in greater\n",
      "  return (self.a < x) & (x < self.b)\n",
      "C:\\Users\\starm\\Anaconda3\\lib\\site-packages\\scipy\\stats\\_distn_infrastructure.py:879: RuntimeWarning: invalid value encountered in less\n",
      "  return (self.a < x) & (x < self.b)\n",
      "C:\\Users\\starm\\Anaconda3\\lib\\site-packages\\scipy\\stats\\_distn_infrastructure.py:1818: RuntimeWarning: invalid value encountered in less_equal\n",
      "  cond2 = cond0 & (x <= self.a)\n"
     ]
    },
    {
     "name": "stdout",
     "output_type": "stream",
     "text": [
      "Performing grid search using 10 features\n"
     ]
    },
    {
     "name": "stderr",
     "output_type": "stream",
     "text": [
      "C:\\Users\\starm\\Anaconda3\\lib\\site-packages\\sklearn\\feature_selection\\univariate_selection.py:279: RuntimeWarning: invalid value encountered in true_divide\n",
      "  corr /= row_norms(X.T)\n",
      "C:\\Users\\starm\\Anaconda3\\lib\\site-packages\\scipy\\stats\\_distn_infrastructure.py:879: RuntimeWarning: invalid value encountered in greater\n",
      "  return (self.a < x) & (x < self.b)\n",
      "C:\\Users\\starm\\Anaconda3\\lib\\site-packages\\scipy\\stats\\_distn_infrastructure.py:879: RuntimeWarning: invalid value encountered in less\n",
      "  return (self.a < x) & (x < self.b)\n",
      "C:\\Users\\starm\\Anaconda3\\lib\\site-packages\\scipy\\stats\\_distn_infrastructure.py:1818: RuntimeWarning: invalid value encountered in less_equal\n",
      "  cond2 = cond0 & (x <= self.a)\n"
     ]
    },
    {
     "name": "stdout",
     "output_type": "stream",
     "text": [
      "Performing grid search using 15 features\n"
     ]
    },
    {
     "name": "stderr",
     "output_type": "stream",
     "text": [
      "C:\\Users\\starm\\Anaconda3\\lib\\site-packages\\sklearn\\feature_selection\\univariate_selection.py:279: RuntimeWarning: invalid value encountered in true_divide\n",
      "  corr /= row_norms(X.T)\n",
      "C:\\Users\\starm\\Anaconda3\\lib\\site-packages\\scipy\\stats\\_distn_infrastructure.py:879: RuntimeWarning: invalid value encountered in greater\n",
      "  return (self.a < x) & (x < self.b)\n",
      "C:\\Users\\starm\\Anaconda3\\lib\\site-packages\\scipy\\stats\\_distn_infrastructure.py:879: RuntimeWarning: invalid value encountered in less\n",
      "  return (self.a < x) & (x < self.b)\n",
      "C:\\Users\\starm\\Anaconda3\\lib\\site-packages\\scipy\\stats\\_distn_infrastructure.py:1818: RuntimeWarning: invalid value encountered in less_equal\n",
      "  cond2 = cond0 & (x <= self.a)\n"
     ]
    },
    {
     "name": "stdout",
     "output_type": "stream",
     "text": [
      "Performing grid search using 20 features\n"
     ]
    },
    {
     "name": "stderr",
     "output_type": "stream",
     "text": [
      "C:\\Users\\starm\\Anaconda3\\lib\\site-packages\\sklearn\\feature_selection\\univariate_selection.py:279: RuntimeWarning: invalid value encountered in true_divide\n",
      "  corr /= row_norms(X.T)\n",
      "C:\\Users\\starm\\Anaconda3\\lib\\site-packages\\scipy\\stats\\_distn_infrastructure.py:879: RuntimeWarning: invalid value encountered in greater\n",
      "  return (self.a < x) & (x < self.b)\n",
      "C:\\Users\\starm\\Anaconda3\\lib\\site-packages\\scipy\\stats\\_distn_infrastructure.py:879: RuntimeWarning: invalid value encountered in less\n",
      "  return (self.a < x) & (x < self.b)\n",
      "C:\\Users\\starm\\Anaconda3\\lib\\site-packages\\scipy\\stats\\_distn_infrastructure.py:1818: RuntimeWarning: invalid value encountered in less_equal\n",
      "  cond2 = cond0 & (x <= self.a)\n"
     ]
    },
    {
     "name": "stdout",
     "output_type": "stream",
     "text": [
      "Performing grid search using 25 features\n"
     ]
    },
    {
     "name": "stderr",
     "output_type": "stream",
     "text": [
      "C:\\Users\\starm\\Anaconda3\\lib\\site-packages\\sklearn\\feature_selection\\univariate_selection.py:279: RuntimeWarning: invalid value encountered in true_divide\n",
      "  corr /= row_norms(X.T)\n",
      "C:\\Users\\starm\\Anaconda3\\lib\\site-packages\\scipy\\stats\\_distn_infrastructure.py:879: RuntimeWarning: invalid value encountered in greater\n",
      "  return (self.a < x) & (x < self.b)\n",
      "C:\\Users\\starm\\Anaconda3\\lib\\site-packages\\scipy\\stats\\_distn_infrastructure.py:879: RuntimeWarning: invalid value encountered in less\n",
      "  return (self.a < x) & (x < self.b)\n",
      "C:\\Users\\starm\\Anaconda3\\lib\\site-packages\\scipy\\stats\\_distn_infrastructure.py:1818: RuntimeWarning: invalid value encountered in less_equal\n",
      "  cond2 = cond0 & (x <= self.a)\n"
     ]
    },
    {
     "name": "stdout",
     "output_type": "stream",
     "text": [
      "Performing grid search using 30 features\n"
     ]
    },
    {
     "name": "stderr",
     "output_type": "stream",
     "text": [
      "C:\\Users\\starm\\Anaconda3\\lib\\site-packages\\sklearn\\feature_selection\\univariate_selection.py:279: RuntimeWarning: invalid value encountered in true_divide\n",
      "  corr /= row_norms(X.T)\n",
      "C:\\Users\\starm\\Anaconda3\\lib\\site-packages\\scipy\\stats\\_distn_infrastructure.py:879: RuntimeWarning: invalid value encountered in greater\n",
      "  return (self.a < x) & (x < self.b)\n",
      "C:\\Users\\starm\\Anaconda3\\lib\\site-packages\\scipy\\stats\\_distn_infrastructure.py:879: RuntimeWarning: invalid value encountered in less\n",
      "  return (self.a < x) & (x < self.b)\n",
      "C:\\Users\\starm\\Anaconda3\\lib\\site-packages\\scipy\\stats\\_distn_infrastructure.py:1818: RuntimeWarning: invalid value encountered in less_equal\n",
      "  cond2 = cond0 & (x <= self.a)\n"
     ]
    },
    {
     "name": "stdout",
     "output_type": "stream",
     "text": [
      "Performing grid search using 35 features\n"
     ]
    },
    {
     "name": "stderr",
     "output_type": "stream",
     "text": [
      "C:\\Users\\starm\\Anaconda3\\lib\\site-packages\\sklearn\\feature_selection\\univariate_selection.py:279: RuntimeWarning: invalid value encountered in true_divide\n",
      "  corr /= row_norms(X.T)\n",
      "C:\\Users\\starm\\Anaconda3\\lib\\site-packages\\scipy\\stats\\_distn_infrastructure.py:879: RuntimeWarning: invalid value encountered in greater\n",
      "  return (self.a < x) & (x < self.b)\n",
      "C:\\Users\\starm\\Anaconda3\\lib\\site-packages\\scipy\\stats\\_distn_infrastructure.py:879: RuntimeWarning: invalid value encountered in less\n",
      "  return (self.a < x) & (x < self.b)\n",
      "C:\\Users\\starm\\Anaconda3\\lib\\site-packages\\scipy\\stats\\_distn_infrastructure.py:1818: RuntimeWarning: invalid value encountered in less_equal\n",
      "  cond2 = cond0 & (x <= self.a)\n"
     ]
    },
    {
     "name": "stdout",
     "output_type": "stream",
     "text": [
      "Performing grid search using 40 features\n"
     ]
    },
    {
     "name": "stderr",
     "output_type": "stream",
     "text": [
      "C:\\Users\\starm\\Anaconda3\\lib\\site-packages\\sklearn\\feature_selection\\univariate_selection.py:279: RuntimeWarning: invalid value encountered in true_divide\n",
      "  corr /= row_norms(X.T)\n",
      "C:\\Users\\starm\\Anaconda3\\lib\\site-packages\\scipy\\stats\\_distn_infrastructure.py:879: RuntimeWarning: invalid value encountered in greater\n",
      "  return (self.a < x) & (x < self.b)\n",
      "C:\\Users\\starm\\Anaconda3\\lib\\site-packages\\scipy\\stats\\_distn_infrastructure.py:879: RuntimeWarning: invalid value encountered in less\n",
      "  return (self.a < x) & (x < self.b)\n",
      "C:\\Users\\starm\\Anaconda3\\lib\\site-packages\\scipy\\stats\\_distn_infrastructure.py:1818: RuntimeWarning: invalid value encountered in less_equal\n",
      "  cond2 = cond0 & (x <= self.a)\n"
     ]
    },
    {
     "name": "stdout",
     "output_type": "stream",
     "text": [
      "Performing grid search using 45 features\n"
     ]
    },
    {
     "name": "stderr",
     "output_type": "stream",
     "text": [
      "C:\\Users\\starm\\Anaconda3\\lib\\site-packages\\sklearn\\feature_selection\\univariate_selection.py:279: RuntimeWarning: invalid value encountered in true_divide\n",
      "  corr /= row_norms(X.T)\n",
      "C:\\Users\\starm\\Anaconda3\\lib\\site-packages\\scipy\\stats\\_distn_infrastructure.py:879: RuntimeWarning: invalid value encountered in greater\n",
      "  return (self.a < x) & (x < self.b)\n",
      "C:\\Users\\starm\\Anaconda3\\lib\\site-packages\\scipy\\stats\\_distn_infrastructure.py:879: RuntimeWarning: invalid value encountered in less\n",
      "  return (self.a < x) & (x < self.b)\n",
      "C:\\Users\\starm\\Anaconda3\\lib\\site-packages\\scipy\\stats\\_distn_infrastructure.py:1818: RuntimeWarning: invalid value encountered in less_equal\n",
      "  cond2 = cond0 & (x <= self.a)\n"
     ]
    },
    {
     "name": "stdout",
     "output_type": "stream",
     "text": [
      "Performing grid search using 50 features\n"
     ]
    },
    {
     "name": "stderr",
     "output_type": "stream",
     "text": [
      "C:\\Users\\starm\\Anaconda3\\lib\\site-packages\\sklearn\\feature_selection\\univariate_selection.py:279: RuntimeWarning: invalid value encountered in true_divide\n",
      "  corr /= row_norms(X.T)\n",
      "C:\\Users\\starm\\Anaconda3\\lib\\site-packages\\scipy\\stats\\_distn_infrastructure.py:879: RuntimeWarning: invalid value encountered in greater\n",
      "  return (self.a < x) & (x < self.b)\n",
      "C:\\Users\\starm\\Anaconda3\\lib\\site-packages\\scipy\\stats\\_distn_infrastructure.py:879: RuntimeWarning: invalid value encountered in less\n",
      "  return (self.a < x) & (x < self.b)\n",
      "C:\\Users\\starm\\Anaconda3\\lib\\site-packages\\scipy\\stats\\_distn_infrastructure.py:1818: RuntimeWarning: invalid value encountered in less_equal\n",
      "  cond2 = cond0 & (x <= self.a)\n"
     ]
    },
    {
     "name": "stdout",
     "output_type": "stream",
     "text": [
      "Performing grid search using 55 features\n"
     ]
    },
    {
     "name": "stderr",
     "output_type": "stream",
     "text": [
      "C:\\Users\\starm\\Anaconda3\\lib\\site-packages\\sklearn\\feature_selection\\univariate_selection.py:279: RuntimeWarning: invalid value encountered in true_divide\n",
      "  corr /= row_norms(X.T)\n",
      "C:\\Users\\starm\\Anaconda3\\lib\\site-packages\\scipy\\stats\\_distn_infrastructure.py:879: RuntimeWarning: invalid value encountered in greater\n",
      "  return (self.a < x) & (x < self.b)\n",
      "C:\\Users\\starm\\Anaconda3\\lib\\site-packages\\scipy\\stats\\_distn_infrastructure.py:879: RuntimeWarning: invalid value encountered in less\n",
      "  return (self.a < x) & (x < self.b)\n",
      "C:\\Users\\starm\\Anaconda3\\lib\\site-packages\\scipy\\stats\\_distn_infrastructure.py:1818: RuntimeWarning: invalid value encountered in less_equal\n",
      "  cond2 = cond0 & (x <= self.a)\n"
     ]
    },
    {
     "name": "stdout",
     "output_type": "stream",
     "text": [
      "Performing grid search using 60 features\n"
     ]
    },
    {
     "name": "stderr",
     "output_type": "stream",
     "text": [
      "C:\\Users\\starm\\Anaconda3\\lib\\site-packages\\sklearn\\feature_selection\\univariate_selection.py:279: RuntimeWarning: invalid value encountered in true_divide\n",
      "  corr /= row_norms(X.T)\n",
      "C:\\Users\\starm\\Anaconda3\\lib\\site-packages\\scipy\\stats\\_distn_infrastructure.py:879: RuntimeWarning: invalid value encountered in greater\n",
      "  return (self.a < x) & (x < self.b)\n",
      "C:\\Users\\starm\\Anaconda3\\lib\\site-packages\\scipy\\stats\\_distn_infrastructure.py:879: RuntimeWarning: invalid value encountered in less\n",
      "  return (self.a < x) & (x < self.b)\n",
      "C:\\Users\\starm\\Anaconda3\\lib\\site-packages\\scipy\\stats\\_distn_infrastructure.py:1818: RuntimeWarning: invalid value encountered in less_equal\n",
      "  cond2 = cond0 & (x <= self.a)\n"
     ]
    },
    {
     "name": "stdout",
     "output_type": "stream",
     "text": [
      "Performing grid search using 65 features\n"
     ]
    },
    {
     "name": "stderr",
     "output_type": "stream",
     "text": [
      "C:\\Users\\starm\\Anaconda3\\lib\\site-packages\\sklearn\\feature_selection\\univariate_selection.py:279: RuntimeWarning: invalid value encountered in true_divide\n",
      "  corr /= row_norms(X.T)\n",
      "C:\\Users\\starm\\Anaconda3\\lib\\site-packages\\scipy\\stats\\_distn_infrastructure.py:879: RuntimeWarning: invalid value encountered in greater\n",
      "  return (self.a < x) & (x < self.b)\n",
      "C:\\Users\\starm\\Anaconda3\\lib\\site-packages\\scipy\\stats\\_distn_infrastructure.py:879: RuntimeWarning: invalid value encountered in less\n",
      "  return (self.a < x) & (x < self.b)\n",
      "C:\\Users\\starm\\Anaconda3\\lib\\site-packages\\scipy\\stats\\_distn_infrastructure.py:1818: RuntimeWarning: invalid value encountered in less_equal\n",
      "  cond2 = cond0 & (x <= self.a)\n"
     ]
    }
   ],
   "source": [
    "# features = {\n",
    "#     'n_features':[],\n",
    "#     'max_depth':[],\n",
    "#     'learning_rate':[],\n",
    "#     'n_estimators':[],\n",
    "#     'max_features':[],\n",
    "#     'subsample':[],\n",
    "#     'rms_mean':[],\n",
    "#     'rms_std':[],\n",
    "#     'test_score':[]\n",
    "# }\n",
    "\n",
    "# #Feature selection and grid search for Gradient Boost Regressor\n",
    "# for n_features in np.arange(5,70,5):\n",
    "#     print('Performing grid search using {} features'.format(n_features))\n",
    "#     #Select top N features\n",
    "#     skb = SelectKBest(f_regression,n_features)\n",
    "#     skb.fit(X_train_train_sc,y_train)\n",
    "\n",
    "#     #Do grid search to find best model hyperparameters\n",
    "#     params = {\n",
    "#         'n_estimators' : np.arange(60,160,20),\n",
    "#          'learning_rate' : [.05,.1,.15],\n",
    "#         'max_depth' : [3,6,9],\n",
    "#         'subsample': [.7,.9,1],\n",
    "#         'max_features' : ['sqrt']\n",
    "#     }\n",
    "\n",
    "#     gbr_model = GridSearchCV(GradientBoostingRegressor(),param_grid=params,cv=5)\n",
    "#     gbr_model.fit(X_train_train_sc[:,skb.get_support()],y_train)\n",
    "#     features['n_features'].append(n_features)\n",
    "#     features['max_depth'].append(gbr_model.best_params_['max_depth'])\n",
    "#     features['learning_rate'].append(gbr_model.best_params_['learning_rate'])\n",
    "#     features['n_estimators'].append(gbr_model.best_params_['n_estimators'])\n",
    "#     features['max_features'].append(gbr_model.best_params_['max_features'])\n",
    "#     features['subsample'].append(gbr_model.best_params_['subsample'])\n",
    "#     rms = np.sqrt(np.abs(cross_val_score(gbr_model.best_estimator_,X_train_train_sc[:,skb.get_support()],y_train,\n",
    "#         cv=5,scoring='neg_mean_squared_error')))\n",
    "#     features['rms_mean'].append(rms.mean())\n",
    "#     features['rms_std'].append(rms.std())\n",
    "#     y_pred = gbr_model.predict(X_train_test_sc[:,skb.get_support()])\n",
    "#     features['test_score'].append(np.sqrt(mean_squared_error(y_test,y_pred)))\n",
    "# features = pd.DataFrame(features)"
   ]
  },
  {
   "cell_type": "code",
   "execution_count": 57,
   "metadata": {
    "collapsed": true
   },
   "outputs": [],
   "source": [
    "# features['test-train_score'] = abs(features.test_score - features.rms_mean)\n",
    "# features['max_features'] = 'sqrt'\n",
    "# best_model = features.loc[features['test-train_score']==features['test-train_score'].min()]\n",
    "# skb = SelectKBest(f_regression,best_model['n_features'].values[0])\n",
    "# skb.fit(X_train_train_sc,y_train)\n",
    "# model = GradientBoostingRegressor(\n",
    "#     learning_rate = best_model['learning_rate'].values[0],\n",
    "#     n_estimators = best_model['n_estimators'].values[0],\n",
    "#     subsample = best_model['subsample'].values[0],\n",
    "#     max_features = best_model['max_features'].values[0],\n",
    "#     max_depth = best_model['max_depth'].values[0]\n",
    "# )\n",
    "# model.fit(X_train_train_sc[:,skb.get_support()],y_train)\n",
    "# #Create arrays to construct prediction file\n",
    "# ids = test.index.values.reshape(-1,1)\n",
    "# preds = model.predict(X_test_sc[:,skb.get_support()]).reshape(-1,1)\n",
    "\n",
    "# #Create a prediction DF and convert ID back to int\n",
    "# pred_df = pd.DataFrame(np.hstack(([ids,preds])),columns=['Id','SalePrice'])\n",
    "# pred_df.Id = pred_df.Id.astype(int)\n",
    "\n",
    "# #Write to csv\n",
    "# pred_df.to_csv('gbr_predictions_1106_try2.csv',index=False)"
   ]
  },
  {
   "cell_type": "markdown",
   "metadata": {},
   "source": [
    "# KNN Regressor"
   ]
  },
  {
   "cell_type": "code",
   "execution_count": 46,
   "metadata": {
    "collapsed": true
   },
   "outputs": [],
   "source": [
    "from sklearn.neighbors import KNeighborsRegressor"
   ]
  },
  {
   "cell_type": "code",
   "execution_count": 47,
   "metadata": {},
   "outputs": [
    {
     "name": "stdout",
     "output_type": "stream",
     "text": [
      "Performing grid search using 5 features\n",
      "Performing grid search using 10 features"
     ]
    },
    {
     "name": "stderr",
     "output_type": "stream",
     "text": [
      "C:\\Users\\starm\\Anaconda3\\lib\\site-packages\\sklearn\\feature_selection\\univariate_selection.py:279: RuntimeWarning: invalid value encountered in true_divide\n",
      "  corr /= row_norms(X.T)\n",
      "C:\\Users\\starm\\Anaconda3\\lib\\site-packages\\scipy\\stats\\_distn_infrastructure.py:879: RuntimeWarning: invalid value encountered in greater\n",
      "  return (self.a < x) & (x < self.b)\n",
      "C:\\Users\\starm\\Anaconda3\\lib\\site-packages\\scipy\\stats\\_distn_infrastructure.py:879: RuntimeWarning: invalid value encountered in less\n",
      "  return (self.a < x) & (x < self.b)\n",
      "C:\\Users\\starm\\Anaconda3\\lib\\site-packages\\scipy\\stats\\_distn_infrastructure.py:1818: RuntimeWarning: invalid value encountered in less_equal\n",
      "  cond2 = cond0 & (x <= self.a)\n",
      "C:\\Users\\starm\\Anaconda3\\lib\\site-packages\\sklearn\\feature_selection\\univariate_selection.py:279: RuntimeWarning: invalid value encountered in true_divide\n",
      "  corr /= row_norms(X.T)\n",
      "C:\\Users\\starm\\Anaconda3\\lib\\site-packages\\scipy\\stats\\_distn_infrastructure.py:879: RuntimeWarning: invalid value encountered in greater\n",
      "  return (self.a < x) & (x < self.b)\n",
      "C:\\Users\\starm\\Anaconda3\\lib\\site-packages\\scipy\\stats\\_distn_infrastructure.py:879: RuntimeWarning: invalid value encountered in less\n",
      "  return (self.a < x) & (x < self.b)\n",
      "C:\\Users\\starm\\Anaconda3\\lib\\site-packages\\scipy\\stats\\_distn_infrastructure.py:1818: RuntimeWarning: invalid value encountered in less_equal\n",
      "  cond2 = cond0 & (x <= self.a)\n"
     ]
    },
    {
     "name": "stdout",
     "output_type": "stream",
     "text": [
      "\n",
      "Performing grid search using 15 features\n"
     ]
    },
    {
     "name": "stderr",
     "output_type": "stream",
     "text": [
      "C:\\Users\\starm\\Anaconda3\\lib\\site-packages\\sklearn\\feature_selection\\univariate_selection.py:279: RuntimeWarning: invalid value encountered in true_divide\n",
      "  corr /= row_norms(X.T)\n",
      "C:\\Users\\starm\\Anaconda3\\lib\\site-packages\\scipy\\stats\\_distn_infrastructure.py:879: RuntimeWarning: invalid value encountered in greater\n",
      "  return (self.a < x) & (x < self.b)\n",
      "C:\\Users\\starm\\Anaconda3\\lib\\site-packages\\scipy\\stats\\_distn_infrastructure.py:879: RuntimeWarning: invalid value encountered in less\n",
      "  return (self.a < x) & (x < self.b)\n",
      "C:\\Users\\starm\\Anaconda3\\lib\\site-packages\\scipy\\stats\\_distn_infrastructure.py:1818: RuntimeWarning: invalid value encountered in less_equal\n",
      "  cond2 = cond0 & (x <= self.a)\n"
     ]
    },
    {
     "name": "stdout",
     "output_type": "stream",
     "text": [
      "Performing grid search using 20 features\n"
     ]
    },
    {
     "name": "stderr",
     "output_type": "stream",
     "text": [
      "C:\\Users\\starm\\Anaconda3\\lib\\site-packages\\sklearn\\feature_selection\\univariate_selection.py:279: RuntimeWarning: invalid value encountered in true_divide\n",
      "  corr /= row_norms(X.T)\n",
      "C:\\Users\\starm\\Anaconda3\\lib\\site-packages\\scipy\\stats\\_distn_infrastructure.py:879: RuntimeWarning: invalid value encountered in greater\n",
      "  return (self.a < x) & (x < self.b)\n",
      "C:\\Users\\starm\\Anaconda3\\lib\\site-packages\\scipy\\stats\\_distn_infrastructure.py:879: RuntimeWarning: invalid value encountered in less\n",
      "  return (self.a < x) & (x < self.b)\n",
      "C:\\Users\\starm\\Anaconda3\\lib\\site-packages\\scipy\\stats\\_distn_infrastructure.py:1818: RuntimeWarning: invalid value encountered in less_equal\n",
      "  cond2 = cond0 & (x <= self.a)\n"
     ]
    },
    {
     "name": "stdout",
     "output_type": "stream",
     "text": [
      "Performing grid search using 25 features\n"
     ]
    },
    {
     "name": "stderr",
     "output_type": "stream",
     "text": [
      "C:\\Users\\starm\\Anaconda3\\lib\\site-packages\\sklearn\\feature_selection\\univariate_selection.py:279: RuntimeWarning: invalid value encountered in true_divide\n",
      "  corr /= row_norms(X.T)\n",
      "C:\\Users\\starm\\Anaconda3\\lib\\site-packages\\scipy\\stats\\_distn_infrastructure.py:879: RuntimeWarning: invalid value encountered in greater\n",
      "  return (self.a < x) & (x < self.b)\n",
      "C:\\Users\\starm\\Anaconda3\\lib\\site-packages\\scipy\\stats\\_distn_infrastructure.py:879: RuntimeWarning: invalid value encountered in less\n",
      "  return (self.a < x) & (x < self.b)\n",
      "C:\\Users\\starm\\Anaconda3\\lib\\site-packages\\scipy\\stats\\_distn_infrastructure.py:1818: RuntimeWarning: invalid value encountered in less_equal\n",
      "  cond2 = cond0 & (x <= self.a)\n"
     ]
    },
    {
     "name": "stdout",
     "output_type": "stream",
     "text": [
      "Performing grid search using 30 features\n"
     ]
    },
    {
     "name": "stderr",
     "output_type": "stream",
     "text": [
      "C:\\Users\\starm\\Anaconda3\\lib\\site-packages\\sklearn\\feature_selection\\univariate_selection.py:279: RuntimeWarning: invalid value encountered in true_divide\n",
      "  corr /= row_norms(X.T)\n",
      "C:\\Users\\starm\\Anaconda3\\lib\\site-packages\\scipy\\stats\\_distn_infrastructure.py:879: RuntimeWarning: invalid value encountered in greater\n",
      "  return (self.a < x) & (x < self.b)\n",
      "C:\\Users\\starm\\Anaconda3\\lib\\site-packages\\scipy\\stats\\_distn_infrastructure.py:879: RuntimeWarning: invalid value encountered in less\n",
      "  return (self.a < x) & (x < self.b)\n",
      "C:\\Users\\starm\\Anaconda3\\lib\\site-packages\\scipy\\stats\\_distn_infrastructure.py:1818: RuntimeWarning: invalid value encountered in less_equal\n",
      "  cond2 = cond0 & (x <= self.a)\n"
     ]
    },
    {
     "name": "stdout",
     "output_type": "stream",
     "text": [
      "Performing grid search using 35 features\n"
     ]
    },
    {
     "name": "stderr",
     "output_type": "stream",
     "text": [
      "C:\\Users\\starm\\Anaconda3\\lib\\site-packages\\sklearn\\feature_selection\\univariate_selection.py:279: RuntimeWarning: invalid value encountered in true_divide\n",
      "  corr /= row_norms(X.T)\n",
      "C:\\Users\\starm\\Anaconda3\\lib\\site-packages\\scipy\\stats\\_distn_infrastructure.py:879: RuntimeWarning: invalid value encountered in greater\n",
      "  return (self.a < x) & (x < self.b)\n",
      "C:\\Users\\starm\\Anaconda3\\lib\\site-packages\\scipy\\stats\\_distn_infrastructure.py:879: RuntimeWarning: invalid value encountered in less\n",
      "  return (self.a < x) & (x < self.b)\n",
      "C:\\Users\\starm\\Anaconda3\\lib\\site-packages\\scipy\\stats\\_distn_infrastructure.py:1818: RuntimeWarning: invalid value encountered in less_equal\n",
      "  cond2 = cond0 & (x <= self.a)\n"
     ]
    },
    {
     "name": "stdout",
     "output_type": "stream",
     "text": [
      "Performing grid search using 40 features\n"
     ]
    },
    {
     "name": "stderr",
     "output_type": "stream",
     "text": [
      "C:\\Users\\starm\\Anaconda3\\lib\\site-packages\\sklearn\\feature_selection\\univariate_selection.py:279: RuntimeWarning: invalid value encountered in true_divide\n",
      "  corr /= row_norms(X.T)\n",
      "C:\\Users\\starm\\Anaconda3\\lib\\site-packages\\scipy\\stats\\_distn_infrastructure.py:879: RuntimeWarning: invalid value encountered in greater\n",
      "  return (self.a < x) & (x < self.b)\n",
      "C:\\Users\\starm\\Anaconda3\\lib\\site-packages\\scipy\\stats\\_distn_infrastructure.py:879: RuntimeWarning: invalid value encountered in less\n",
      "  return (self.a < x) & (x < self.b)\n",
      "C:\\Users\\starm\\Anaconda3\\lib\\site-packages\\scipy\\stats\\_distn_infrastructure.py:1818: RuntimeWarning: invalid value encountered in less_equal\n",
      "  cond2 = cond0 & (x <= self.a)\n"
     ]
    },
    {
     "name": "stdout",
     "output_type": "stream",
     "text": [
      "Performing grid search using 45 features\n"
     ]
    },
    {
     "name": "stderr",
     "output_type": "stream",
     "text": [
      "C:\\Users\\starm\\Anaconda3\\lib\\site-packages\\sklearn\\feature_selection\\univariate_selection.py:279: RuntimeWarning: invalid value encountered in true_divide\n",
      "  corr /= row_norms(X.T)\n",
      "C:\\Users\\starm\\Anaconda3\\lib\\site-packages\\scipy\\stats\\_distn_infrastructure.py:879: RuntimeWarning: invalid value encountered in greater\n",
      "  return (self.a < x) & (x < self.b)\n",
      "C:\\Users\\starm\\Anaconda3\\lib\\site-packages\\scipy\\stats\\_distn_infrastructure.py:879: RuntimeWarning: invalid value encountered in less\n",
      "  return (self.a < x) & (x < self.b)\n",
      "C:\\Users\\starm\\Anaconda3\\lib\\site-packages\\scipy\\stats\\_distn_infrastructure.py:1818: RuntimeWarning: invalid value encountered in less_equal\n",
      "  cond2 = cond0 & (x <= self.a)\n"
     ]
    },
    {
     "name": "stdout",
     "output_type": "stream",
     "text": [
      "Performing grid search using 50 features\n"
     ]
    },
    {
     "name": "stderr",
     "output_type": "stream",
     "text": [
      "C:\\Users\\starm\\Anaconda3\\lib\\site-packages\\sklearn\\feature_selection\\univariate_selection.py:279: RuntimeWarning: invalid value encountered in true_divide\n",
      "  corr /= row_norms(X.T)\n",
      "C:\\Users\\starm\\Anaconda3\\lib\\site-packages\\scipy\\stats\\_distn_infrastructure.py:879: RuntimeWarning: invalid value encountered in greater\n",
      "  return (self.a < x) & (x < self.b)\n",
      "C:\\Users\\starm\\Anaconda3\\lib\\site-packages\\scipy\\stats\\_distn_infrastructure.py:879: RuntimeWarning: invalid value encountered in less\n",
      "  return (self.a < x) & (x < self.b)\n",
      "C:\\Users\\starm\\Anaconda3\\lib\\site-packages\\scipy\\stats\\_distn_infrastructure.py:1818: RuntimeWarning: invalid value encountered in less_equal\n",
      "  cond2 = cond0 & (x <= self.a)\n"
     ]
    },
    {
     "name": "stdout",
     "output_type": "stream",
     "text": [
      "Performing grid search using 55 features\n"
     ]
    },
    {
     "name": "stderr",
     "output_type": "stream",
     "text": [
      "C:\\Users\\starm\\Anaconda3\\lib\\site-packages\\sklearn\\feature_selection\\univariate_selection.py:279: RuntimeWarning: invalid value encountered in true_divide\n",
      "  corr /= row_norms(X.T)\n",
      "C:\\Users\\starm\\Anaconda3\\lib\\site-packages\\scipy\\stats\\_distn_infrastructure.py:879: RuntimeWarning: invalid value encountered in greater\n",
      "  return (self.a < x) & (x < self.b)\n",
      "C:\\Users\\starm\\Anaconda3\\lib\\site-packages\\scipy\\stats\\_distn_infrastructure.py:879: RuntimeWarning: invalid value encountered in less\n",
      "  return (self.a < x) & (x < self.b)\n",
      "C:\\Users\\starm\\Anaconda3\\lib\\site-packages\\scipy\\stats\\_distn_infrastructure.py:1818: RuntimeWarning: invalid value encountered in less_equal\n",
      "  cond2 = cond0 & (x <= self.a)\n"
     ]
    }
   ],
   "source": [
    "# features = {\n",
    "#     'n_features':[],\n",
    "#     'n_neighbors':[],\n",
    "#     'rms_mean':[],\n",
    "#     'rms_std':[],\n",
    "#     'test_score':[]\n",
    "# }\n",
    "\n",
    "# for n_features in np.arange(5,60,5):\n",
    "#     print('Performing grid search using {} features'.format(n_features))\n",
    "#     #Select top N features\n",
    "#     skb = SelectKBest(f_regression,n_features)\n",
    "#     skb.fit(X_train_train_sc,y_train)\n",
    "#     knr = GridSearchCV(KNeighborsRegressor(),param_grid={'n_neighbors':[3,5,7,11]})\n",
    "#     knr.fit(X_train_train_sc[:,skb.get_support()],y_train)\n",
    "#     features['n_features'].append(n_features)\n",
    "#     features['n_neighbors'].append(knr.best_params_['n_neighbors'])\n",
    "#     rms = np.sqrt(np.abs(cross_val_score(knr.best_estimator_,X_train_train_sc[:,skb.get_support()],y_train,\n",
    "#         cv=5,scoring='neg_mean_squared_error')))\n",
    "#     features['rms_mean'].append(rms.mean())\n",
    "#     features['rms_std'].append(rms.std())\n",
    "#     y_pred = knr.predict(X_train_test_sc[:,skb.get_support()])\n",
    "#     features['test_score'].append(np.sqrt(mean_squared_error(y_test,y_pred)))\n",
    "# features = pd.DataFrame(features)\n",
    "# features['test-train_score'] = features.test_score - features.rms_mean"
   ]
  },
  {
   "cell_type": "code",
   "execution_count": 48,
   "metadata": {},
   "outputs": [
    {
     "data": {
      "text/html": [
       "<div>\n",
       "<style>\n",
       "    .dataframe thead tr:only-child th {\n",
       "        text-align: right;\n",
       "    }\n",
       "\n",
       "    .dataframe thead th {\n",
       "        text-align: left;\n",
       "    }\n",
       "\n",
       "    .dataframe tbody tr th {\n",
       "        vertical-align: top;\n",
       "    }\n",
       "</style>\n",
       "<table border=\"1\" class=\"dataframe\">\n",
       "  <thead>\n",
       "    <tr style=\"text-align: right;\">\n",
       "      <th></th>\n",
       "      <th>n_features</th>\n",
       "      <th>n_neighbors</th>\n",
       "      <th>rms_mean</th>\n",
       "      <th>rms_std</th>\n",
       "      <th>test_score</th>\n",
       "      <th>test-train_score</th>\n",
       "    </tr>\n",
       "  </thead>\n",
       "  <tbody>\n",
       "    <tr>\n",
       "      <th>0</th>\n",
       "      <td>5</td>\n",
       "      <td>11</td>\n",
       "      <td>32081.847961</td>\n",
       "      <td>985.925993</td>\n",
       "      <td>34318.725579</td>\n",
       "      <td>2236.877618</td>\n",
       "    </tr>\n",
       "    <tr>\n",
       "      <th>1</th>\n",
       "      <td>10</td>\n",
       "      <td>7</td>\n",
       "      <td>29327.162501</td>\n",
       "      <td>1142.836307</td>\n",
       "      <td>28904.359979</td>\n",
       "      <td>-422.802522</td>\n",
       "    </tr>\n",
       "    <tr>\n",
       "      <th>2</th>\n",
       "      <td>15</td>\n",
       "      <td>7</td>\n",
       "      <td>29449.019323</td>\n",
       "      <td>2015.939910</td>\n",
       "      <td>28163.718340</td>\n",
       "      <td>-1285.300984</td>\n",
       "    </tr>\n",
       "    <tr>\n",
       "      <th>3</th>\n",
       "      <td>20</td>\n",
       "      <td>7</td>\n",
       "      <td>29791.352163</td>\n",
       "      <td>1896.236593</td>\n",
       "      <td>26819.344417</td>\n",
       "      <td>-2972.007746</td>\n",
       "    </tr>\n",
       "    <tr>\n",
       "      <th>4</th>\n",
       "      <td>25</td>\n",
       "      <td>7</td>\n",
       "      <td>30565.684967</td>\n",
       "      <td>1559.872829</td>\n",
       "      <td>26636.394424</td>\n",
       "      <td>-3929.290543</td>\n",
       "    </tr>\n",
       "    <tr>\n",
       "      <th>5</th>\n",
       "      <td>30</td>\n",
       "      <td>11</td>\n",
       "      <td>32596.142457</td>\n",
       "      <td>1951.605213</td>\n",
       "      <td>31182.839010</td>\n",
       "      <td>-1413.303447</td>\n",
       "    </tr>\n",
       "    <tr>\n",
       "      <th>6</th>\n",
       "      <td>35</td>\n",
       "      <td>5</td>\n",
       "      <td>32752.853447</td>\n",
       "      <td>1781.995102</td>\n",
       "      <td>34288.494886</td>\n",
       "      <td>1535.641440</td>\n",
       "    </tr>\n",
       "    <tr>\n",
       "      <th>7</th>\n",
       "      <td>40</td>\n",
       "      <td>3</td>\n",
       "      <td>33029.196722</td>\n",
       "      <td>1808.844335</td>\n",
       "      <td>34200.602549</td>\n",
       "      <td>1171.405827</td>\n",
       "    </tr>\n",
       "    <tr>\n",
       "      <th>8</th>\n",
       "      <td>45</td>\n",
       "      <td>3</td>\n",
       "      <td>32888.997425</td>\n",
       "      <td>2076.722708</td>\n",
       "      <td>36069.831139</td>\n",
       "      <td>3180.833714</td>\n",
       "    </tr>\n",
       "    <tr>\n",
       "      <th>9</th>\n",
       "      <td>50</td>\n",
       "      <td>3</td>\n",
       "      <td>32554.758613</td>\n",
       "      <td>2007.712209</td>\n",
       "      <td>33012.609937</td>\n",
       "      <td>457.851324</td>\n",
       "    </tr>\n",
       "    <tr>\n",
       "      <th>10</th>\n",
       "      <td>55</td>\n",
       "      <td>5</td>\n",
       "      <td>33638.976419</td>\n",
       "      <td>2716.737777</td>\n",
       "      <td>33598.929710</td>\n",
       "      <td>-40.046709</td>\n",
       "    </tr>\n",
       "  </tbody>\n",
       "</table>\n",
       "</div>"
      ],
      "text/plain": [
       "    n_features  n_neighbors      rms_mean      rms_std    test_score  \\\n",
       "0            5           11  32081.847961   985.925993  34318.725579   \n",
       "1           10            7  29327.162501  1142.836307  28904.359979   \n",
       "2           15            7  29449.019323  2015.939910  28163.718340   \n",
       "3           20            7  29791.352163  1896.236593  26819.344417   \n",
       "4           25            7  30565.684967  1559.872829  26636.394424   \n",
       "5           30           11  32596.142457  1951.605213  31182.839010   \n",
       "6           35            5  32752.853447  1781.995102  34288.494886   \n",
       "7           40            3  33029.196722  1808.844335  34200.602549   \n",
       "8           45            3  32888.997425  2076.722708  36069.831139   \n",
       "9           50            3  32554.758613  2007.712209  33012.609937   \n",
       "10          55            5  33638.976419  2716.737777  33598.929710   \n",
       "\n",
       "    test-train_score  \n",
       "0        2236.877618  \n",
       "1        -422.802522  \n",
       "2       -1285.300984  \n",
       "3       -2972.007746  \n",
       "4       -3929.290543  \n",
       "5       -1413.303447  \n",
       "6        1535.641440  \n",
       "7        1171.405827  \n",
       "8        3180.833714  \n",
       "9         457.851324  \n",
       "10        -40.046709  "
      ]
     },
     "execution_count": 48,
     "metadata": {},
     "output_type": "execute_result"
    }
   ],
   "source": [
    "# features"
   ]
  },
  {
   "cell_type": "markdown",
   "metadata": {
    "collapsed": true
   },
   "source": [
    "# Random Forest Regressor"
   ]
  },
  {
   "cell_type": "code",
   "execution_count": 89,
   "metadata": {},
   "outputs": [
    {
     "name": "stdout",
     "output_type": "stream",
     "text": [
      "Performing grid search using 5 features\n"
     ]
    },
    {
     "name": "stderr",
     "output_type": "stream",
     "text": [
      "C:\\Users\\starm\\Anaconda3\\lib\\site-packages\\sklearn\\feature_selection\\univariate_selection.py:279: RuntimeWarning: invalid value encountered in true_divide\n",
      "  corr /= row_norms(X.T)\n",
      "C:\\Users\\starm\\Anaconda3\\lib\\site-packages\\scipy\\stats\\_distn_infrastructure.py:879: RuntimeWarning: invalid value encountered in greater\n",
      "  return (self.a < x) & (x < self.b)\n",
      "C:\\Users\\starm\\Anaconda3\\lib\\site-packages\\scipy\\stats\\_distn_infrastructure.py:879: RuntimeWarning: invalid value encountered in less\n",
      "  return (self.a < x) & (x < self.b)\n",
      "C:\\Users\\starm\\Anaconda3\\lib\\site-packages\\scipy\\stats\\_distn_infrastructure.py:1818: RuntimeWarning: invalid value encountered in less_equal\n",
      "  cond2 = cond0 & (x <= self.a)\n"
     ]
    },
    {
     "name": "stdout",
     "output_type": "stream",
     "text": [
      "Performing grid search using 10 features\n"
     ]
    },
    {
     "name": "stderr",
     "output_type": "stream",
     "text": [
      "C:\\Users\\starm\\Anaconda3\\lib\\site-packages\\sklearn\\feature_selection\\univariate_selection.py:279: RuntimeWarning: invalid value encountered in true_divide\n",
      "  corr /= row_norms(X.T)\n",
      "C:\\Users\\starm\\Anaconda3\\lib\\site-packages\\scipy\\stats\\_distn_infrastructure.py:879: RuntimeWarning: invalid value encountered in greater\n",
      "  return (self.a < x) & (x < self.b)\n",
      "C:\\Users\\starm\\Anaconda3\\lib\\site-packages\\scipy\\stats\\_distn_infrastructure.py:879: RuntimeWarning: invalid value encountered in less\n",
      "  return (self.a < x) & (x < self.b)\n",
      "C:\\Users\\starm\\Anaconda3\\lib\\site-packages\\scipy\\stats\\_distn_infrastructure.py:1818: RuntimeWarning: invalid value encountered in less_equal\n",
      "  cond2 = cond0 & (x <= self.a)\n"
     ]
    },
    {
     "name": "stdout",
     "output_type": "stream",
     "text": [
      "Performing grid search using 15 features\n"
     ]
    },
    {
     "name": "stderr",
     "output_type": "stream",
     "text": [
      "C:\\Users\\starm\\Anaconda3\\lib\\site-packages\\sklearn\\feature_selection\\univariate_selection.py:279: RuntimeWarning: invalid value encountered in true_divide\n",
      "  corr /= row_norms(X.T)\n",
      "C:\\Users\\starm\\Anaconda3\\lib\\site-packages\\scipy\\stats\\_distn_infrastructure.py:879: RuntimeWarning: invalid value encountered in greater\n",
      "  return (self.a < x) & (x < self.b)\n",
      "C:\\Users\\starm\\Anaconda3\\lib\\site-packages\\scipy\\stats\\_distn_infrastructure.py:879: RuntimeWarning: invalid value encountered in less\n",
      "  return (self.a < x) & (x < self.b)\n",
      "C:\\Users\\starm\\Anaconda3\\lib\\site-packages\\scipy\\stats\\_distn_infrastructure.py:1818: RuntimeWarning: invalid value encountered in less_equal\n",
      "  cond2 = cond0 & (x <= self.a)\n"
     ]
    },
    {
     "name": "stdout",
     "output_type": "stream",
     "text": [
      "Performing grid search using 20 features\n"
     ]
    },
    {
     "name": "stderr",
     "output_type": "stream",
     "text": [
      "C:\\Users\\starm\\Anaconda3\\lib\\site-packages\\sklearn\\feature_selection\\univariate_selection.py:279: RuntimeWarning: invalid value encountered in true_divide\n",
      "  corr /= row_norms(X.T)\n",
      "C:\\Users\\starm\\Anaconda3\\lib\\site-packages\\scipy\\stats\\_distn_infrastructure.py:879: RuntimeWarning: invalid value encountered in greater\n",
      "  return (self.a < x) & (x < self.b)\n",
      "C:\\Users\\starm\\Anaconda3\\lib\\site-packages\\scipy\\stats\\_distn_infrastructure.py:879: RuntimeWarning: invalid value encountered in less\n",
      "  return (self.a < x) & (x < self.b)\n",
      "C:\\Users\\starm\\Anaconda3\\lib\\site-packages\\scipy\\stats\\_distn_infrastructure.py:1818: RuntimeWarning: invalid value encountered in less_equal\n",
      "  cond2 = cond0 & (x <= self.a)\n"
     ]
    },
    {
     "name": "stdout",
     "output_type": "stream",
     "text": [
      "Performing grid search using 25 features\n"
     ]
    },
    {
     "name": "stderr",
     "output_type": "stream",
     "text": [
      "C:\\Users\\starm\\Anaconda3\\lib\\site-packages\\sklearn\\feature_selection\\univariate_selection.py:279: RuntimeWarning: invalid value encountered in true_divide\n",
      "  corr /= row_norms(X.T)\n",
      "C:\\Users\\starm\\Anaconda3\\lib\\site-packages\\scipy\\stats\\_distn_infrastructure.py:879: RuntimeWarning: invalid value encountered in greater\n",
      "  return (self.a < x) & (x < self.b)\n",
      "C:\\Users\\starm\\Anaconda3\\lib\\site-packages\\scipy\\stats\\_distn_infrastructure.py:879: RuntimeWarning: invalid value encountered in less\n",
      "  return (self.a < x) & (x < self.b)\n",
      "C:\\Users\\starm\\Anaconda3\\lib\\site-packages\\scipy\\stats\\_distn_infrastructure.py:1818: RuntimeWarning: invalid value encountered in less_equal\n",
      "  cond2 = cond0 & (x <= self.a)\n"
     ]
    },
    {
     "name": "stdout",
     "output_type": "stream",
     "text": [
      "Performing grid search using 30 features\n"
     ]
    },
    {
     "name": "stderr",
     "output_type": "stream",
     "text": [
      "C:\\Users\\starm\\Anaconda3\\lib\\site-packages\\sklearn\\feature_selection\\univariate_selection.py:279: RuntimeWarning: invalid value encountered in true_divide\n",
      "  corr /= row_norms(X.T)\n",
      "C:\\Users\\starm\\Anaconda3\\lib\\site-packages\\scipy\\stats\\_distn_infrastructure.py:879: RuntimeWarning: invalid value encountered in greater\n",
      "  return (self.a < x) & (x < self.b)\n",
      "C:\\Users\\starm\\Anaconda3\\lib\\site-packages\\scipy\\stats\\_distn_infrastructure.py:879: RuntimeWarning: invalid value encountered in less\n",
      "  return (self.a < x) & (x < self.b)\n",
      "C:\\Users\\starm\\Anaconda3\\lib\\site-packages\\scipy\\stats\\_distn_infrastructure.py:1818: RuntimeWarning: invalid value encountered in less_equal\n",
      "  cond2 = cond0 & (x <= self.a)\n"
     ]
    },
    {
     "name": "stdout",
     "output_type": "stream",
     "text": [
      "Performing grid search using 35 features\n"
     ]
    },
    {
     "name": "stderr",
     "output_type": "stream",
     "text": [
      "C:\\Users\\starm\\Anaconda3\\lib\\site-packages\\sklearn\\feature_selection\\univariate_selection.py:279: RuntimeWarning: invalid value encountered in true_divide\n",
      "  corr /= row_norms(X.T)\n",
      "C:\\Users\\starm\\Anaconda3\\lib\\site-packages\\scipy\\stats\\_distn_infrastructure.py:879: RuntimeWarning: invalid value encountered in greater\n",
      "  return (self.a < x) & (x < self.b)\n",
      "C:\\Users\\starm\\Anaconda3\\lib\\site-packages\\scipy\\stats\\_distn_infrastructure.py:879: RuntimeWarning: invalid value encountered in less\n",
      "  return (self.a < x) & (x < self.b)\n",
      "C:\\Users\\starm\\Anaconda3\\lib\\site-packages\\scipy\\stats\\_distn_infrastructure.py:1818: RuntimeWarning: invalid value encountered in less_equal\n",
      "  cond2 = cond0 & (x <= self.a)\n"
     ]
    },
    {
     "name": "stdout",
     "output_type": "stream",
     "text": [
      "Performing grid search using 40 features\n"
     ]
    },
    {
     "name": "stderr",
     "output_type": "stream",
     "text": [
      "C:\\Users\\starm\\Anaconda3\\lib\\site-packages\\sklearn\\feature_selection\\univariate_selection.py:279: RuntimeWarning: invalid value encountered in true_divide\n",
      "  corr /= row_norms(X.T)\n",
      "C:\\Users\\starm\\Anaconda3\\lib\\site-packages\\scipy\\stats\\_distn_infrastructure.py:879: RuntimeWarning: invalid value encountered in greater\n",
      "  return (self.a < x) & (x < self.b)\n",
      "C:\\Users\\starm\\Anaconda3\\lib\\site-packages\\scipy\\stats\\_distn_infrastructure.py:879: RuntimeWarning: invalid value encountered in less\n",
      "  return (self.a < x) & (x < self.b)\n",
      "C:\\Users\\starm\\Anaconda3\\lib\\site-packages\\scipy\\stats\\_distn_infrastructure.py:1818: RuntimeWarning: invalid value encountered in less_equal\n",
      "  cond2 = cond0 & (x <= self.a)\n"
     ]
    },
    {
     "name": "stdout",
     "output_type": "stream",
     "text": [
      "Performing grid search using 45 features\n"
     ]
    },
    {
     "name": "stderr",
     "output_type": "stream",
     "text": [
      "C:\\Users\\starm\\Anaconda3\\lib\\site-packages\\sklearn\\feature_selection\\univariate_selection.py:279: RuntimeWarning: invalid value encountered in true_divide\n",
      "  corr /= row_norms(X.T)\n",
      "C:\\Users\\starm\\Anaconda3\\lib\\site-packages\\scipy\\stats\\_distn_infrastructure.py:879: RuntimeWarning: invalid value encountered in greater\n",
      "  return (self.a < x) & (x < self.b)\n",
      "C:\\Users\\starm\\Anaconda3\\lib\\site-packages\\scipy\\stats\\_distn_infrastructure.py:879: RuntimeWarning: invalid value encountered in less\n",
      "  return (self.a < x) & (x < self.b)\n",
      "C:\\Users\\starm\\Anaconda3\\lib\\site-packages\\scipy\\stats\\_distn_infrastructure.py:1818: RuntimeWarning: invalid value encountered in less_equal\n",
      "  cond2 = cond0 & (x <= self.a)\n"
     ]
    },
    {
     "name": "stdout",
     "output_type": "stream",
     "text": [
      "Performing grid search using 50 features\n"
     ]
    },
    {
     "name": "stderr",
     "output_type": "stream",
     "text": [
      "C:\\Users\\starm\\Anaconda3\\lib\\site-packages\\sklearn\\feature_selection\\univariate_selection.py:279: RuntimeWarning: invalid value encountered in true_divide\n",
      "  corr /= row_norms(X.T)\n",
      "C:\\Users\\starm\\Anaconda3\\lib\\site-packages\\scipy\\stats\\_distn_infrastructure.py:879: RuntimeWarning: invalid value encountered in greater\n",
      "  return (self.a < x) & (x < self.b)\n",
      "C:\\Users\\starm\\Anaconda3\\lib\\site-packages\\scipy\\stats\\_distn_infrastructure.py:879: RuntimeWarning: invalid value encountered in less\n",
      "  return (self.a < x) & (x < self.b)\n",
      "C:\\Users\\starm\\Anaconda3\\lib\\site-packages\\scipy\\stats\\_distn_infrastructure.py:1818: RuntimeWarning: invalid value encountered in less_equal\n",
      "  cond2 = cond0 & (x <= self.a)\n"
     ]
    },
    {
     "name": "stdout",
     "output_type": "stream",
     "text": [
      "Performing grid search using 55 features\n"
     ]
    },
    {
     "name": "stderr",
     "output_type": "stream",
     "text": [
      "C:\\Users\\starm\\Anaconda3\\lib\\site-packages\\sklearn\\feature_selection\\univariate_selection.py:279: RuntimeWarning: invalid value encountered in true_divide\n",
      "  corr /= row_norms(X.T)\n",
      "C:\\Users\\starm\\Anaconda3\\lib\\site-packages\\scipy\\stats\\_distn_infrastructure.py:879: RuntimeWarning: invalid value encountered in greater\n",
      "  return (self.a < x) & (x < self.b)\n",
      "C:\\Users\\starm\\Anaconda3\\lib\\site-packages\\scipy\\stats\\_distn_infrastructure.py:879: RuntimeWarning: invalid value encountered in less\n",
      "  return (self.a < x) & (x < self.b)\n",
      "C:\\Users\\starm\\Anaconda3\\lib\\site-packages\\scipy\\stats\\_distn_infrastructure.py:1818: RuntimeWarning: invalid value encountered in less_equal\n",
      "  cond2 = cond0 & (x <= self.a)\n"
     ]
    },
    {
     "name": "stdout",
     "output_type": "stream",
     "text": [
      "Performing grid search using 60 features\n"
     ]
    },
    {
     "name": "stderr",
     "output_type": "stream",
     "text": [
      "C:\\Users\\starm\\Anaconda3\\lib\\site-packages\\sklearn\\feature_selection\\univariate_selection.py:279: RuntimeWarning: invalid value encountered in true_divide\n",
      "  corr /= row_norms(X.T)\n",
      "C:\\Users\\starm\\Anaconda3\\lib\\site-packages\\scipy\\stats\\_distn_infrastructure.py:879: RuntimeWarning: invalid value encountered in greater\n",
      "  return (self.a < x) & (x < self.b)\n",
      "C:\\Users\\starm\\Anaconda3\\lib\\site-packages\\scipy\\stats\\_distn_infrastructure.py:879: RuntimeWarning: invalid value encountered in less\n",
      "  return (self.a < x) & (x < self.b)\n",
      "C:\\Users\\starm\\Anaconda3\\lib\\site-packages\\scipy\\stats\\_distn_infrastructure.py:1818: RuntimeWarning: invalid value encountered in less_equal\n",
      "  cond2 = cond0 & (x <= self.a)\n"
     ]
    },
    {
     "name": "stdout",
     "output_type": "stream",
     "text": [
      "Performing grid search using 65 features\n"
     ]
    },
    {
     "name": "stderr",
     "output_type": "stream",
     "text": [
      "C:\\Users\\starm\\Anaconda3\\lib\\site-packages\\sklearn\\feature_selection\\univariate_selection.py:279: RuntimeWarning: invalid value encountered in true_divide\n",
      "  corr /= row_norms(X.T)\n",
      "C:\\Users\\starm\\Anaconda3\\lib\\site-packages\\scipy\\stats\\_distn_infrastructure.py:879: RuntimeWarning: invalid value encountered in greater\n",
      "  return (self.a < x) & (x < self.b)\n",
      "C:\\Users\\starm\\Anaconda3\\lib\\site-packages\\scipy\\stats\\_distn_infrastructure.py:879: RuntimeWarning: invalid value encountered in less\n",
      "  return (self.a < x) & (x < self.b)\n",
      "C:\\Users\\starm\\Anaconda3\\lib\\site-packages\\scipy\\stats\\_distn_infrastructure.py:1818: RuntimeWarning: invalid value encountered in less_equal\n",
      "  cond2 = cond0 & (x <= self.a)\n"
     ]
    }
   ],
   "source": [
    "features = {\n",
    "    'n_features':[],\n",
    "    'rms_mean':[],\n",
    "    'rms_std':[],\n",
    "    'test_score':[]\n",
    "}\n",
    "\n",
    "#Feature selection and grid search for Gradient Boost Regressor\n",
    "for n_features in np.arange(5,70,5):\n",
    "    print('Performing grid search using {} features'.format(n_features))\n",
    "    #Select top N features\n",
    "    skb = SelectKBest(f_regression,n_features)\n",
    "    skb.fit(X_train_train_sc,y_train)\n",
    "\n",
    "    #Do grid search to find best model hyperparameters\n",
    "    rf_model = RandomForestRegressor(n_estimators=60,max_depth=20,max_features='sqrt')\n",
    "    rf_model.fit(X_train_train_sc[:,skb.get_support()],y_train)\n",
    "    features['n_features'].append(n_features)\n",
    "    rms = np.sqrt(np.abs(cross_val_score(rf_model,X_train_train_sc[:,skb.get_support()],y_train,\n",
    "        cv=5,scoring='neg_mean_squared_error')))\n",
    "    features['rms_mean'].append(rms.mean())\n",
    "    features['rms_std'].append(rms.std())\n",
    "    y_pred = rf_model.predict(X_train_test_sc[:,skb.get_support()])\n",
    "    features['test_score'].append(np.sqrt(mean_squared_error(y_test,y_pred)))\n",
    "features = pd.DataFrame(features)"
   ]
  },
  {
   "cell_type": "code",
   "execution_count": 91,
   "metadata": {},
   "outputs": [
    {
     "name": "stderr",
     "output_type": "stream",
     "text": [
      "C:\\Users\\starm\\Anaconda3\\lib\\site-packages\\sklearn\\feature_selection\\univariate_selection.py:279: RuntimeWarning: invalid value encountered in true_divide\n",
      "  corr /= row_norms(X.T)\n",
      "C:\\Users\\starm\\Anaconda3\\lib\\site-packages\\scipy\\stats\\_distn_infrastructure.py:879: RuntimeWarning: invalid value encountered in greater\n",
      "  return (self.a < x) & (x < self.b)\n",
      "C:\\Users\\starm\\Anaconda3\\lib\\site-packages\\scipy\\stats\\_distn_infrastructure.py:879: RuntimeWarning: invalid value encountered in less\n",
      "  return (self.a < x) & (x < self.b)\n",
      "C:\\Users\\starm\\Anaconda3\\lib\\site-packages\\scipy\\stats\\_distn_infrastructure.py:1818: RuntimeWarning: invalid value encountered in less_equal\n",
      "  cond2 = cond0 & (x <= self.a)\n"
     ]
    }
   ],
   "source": [
    "features['test-train_score'] = abs(features.test_score - features.rms_mean)\n",
    "features\n",
    "best_model = features.loc[features['test-train_score']==features['test-train_score'].min()]\n",
    "skb = SelectKBest(f_regression,best_model['n_features'].values[0])\n",
    "skb.fit(X_train_train_sc,y_train)\n",
    "rf_model = RandomForestRegressor(n_estimators=60,max_depth=20,max_features='sqrt')\n",
    "rf_model.fit(X_train_train_sc[:,skb.get_support()],y_train)\n",
    "#Create arrays to construct prediction file\n",
    "ids = test.index.values.reshape(-1,1)\n",
    "preds = rf_model.predict(X_test_sc[:,skb.get_support()]).reshape(-1,1)\n",
    "\n",
    "#Create a prediction DF and convert ID back to int\n",
    "pred_df = pd.DataFrame(np.hstack(([ids,preds])),columns=['Id','SalePrice'])\n",
    "pred_df.Id = pred_df.Id.astype(int)\n",
    "\n",
    "#Write to csv\n",
    "pred_df.to_csv('rf_predictions_1106.csv',index=False)"
   ]
  },
  {
   "cell_type": "code",
   "execution_count": null,
   "metadata": {
    "collapsed": true
   },
   "outputs": [],
   "source": []
  }
 ],
 "metadata": {
  "kernelspec": {
   "display_name": "Python 3",
   "language": "python",
   "name": "python3"
  },
  "language_info": {
   "codemirror_mode": {
    "name": "ipython",
    "version": 3
   },
   "file_extension": ".py",
   "mimetype": "text/x-python",
   "name": "python",
   "nbconvert_exporter": "python",
   "pygments_lexer": "ipython3",
   "version": "3.6.1"
  }
 },
 "nbformat": 4,
 "nbformat_minor": 2
}
